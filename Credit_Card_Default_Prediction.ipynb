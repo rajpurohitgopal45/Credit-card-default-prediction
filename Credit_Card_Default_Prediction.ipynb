{
  "nbformat": 4,
  "nbformat_minor": 0,
  "metadata": {
    "colab": {
      "provenance": [],
      "collapsed_sections": []
    },
    "kernelspec": {
      "name": "python3",
      "display_name": "Python 3"
    },
    "language_info": {
      "name": "python"
    },
    "accelerator": "GPU",
    "gpuClass": "standard"
  },
  "cells": [
    {
      "cell_type": "code",
      "execution_count": 1,
      "metadata": {
        "id": "6ib1rL8QwMho"
      },
      "outputs": [],
      "source": [
        "import tensorflow as tf"
      ]
    },
    {
      "cell_type": "code",
      "source": [
        "print(tf.__version__)"
      ],
      "metadata": {
        "colab": {
          "base_uri": "https://localhost:8080/"
        },
        "id": "9Nr4EUSM7kzl",
        "outputId": "42e6bc09-a5d0-46ea-f947-e82a653b2bad"
      },
      "execution_count": 2,
      "outputs": [
        {
          "output_type": "stream",
          "name": "stdout",
          "text": [
            "2.9.2\n"
          ]
        }
      ]
    },
    {
      "cell_type": "code",
      "source": [
        "# Importing the libraries\n",
        "import numpy as np\n",
        "import matplotlib.pyplot as plt\n",
        "import pandas as pd"
      ],
      "metadata": {
        "id": "KZbm4ERa7mhF"
      },
      "execution_count": 3,
      "outputs": []
    },
    {
      "cell_type": "code",
      "source": [
        "# Importing the dataset\n",
        "dataset = pd.read_csv('UCI_Credit_Card.csv')\n",
        "X = dataset.iloc[:, 1:24]\n",
        "y = dataset.iloc[:, 24]"
      ],
      "metadata": {
        "id": "R0U4ITds7p2G"
      },
      "execution_count": 4,
      "outputs": []
    },
    {
      "cell_type": "code",
      "source": [
        "# independent feature\n",
        "X.head"
      ],
      "metadata": {
        "colab": {
          "base_uri": "https://localhost:8080/"
        },
        "id": "bi82HUDR8Squ",
        "outputId": "af7b58af-6ed4-49fb-e0f0-9767e86e7516"
      },
      "execution_count": 5,
      "outputs": [
        {
          "output_type": "execute_result",
          "data": {
            "text/plain": [
              "<bound method NDFrame.head of        LIMIT_BAL  SEX  EDUCATION  MARRIAGE  AGE  PAY_0  PAY_2  PAY_3  PAY_4  \\\n",
              "0        20000.0    2          2         1   24      2      2     -1     -1   \n",
              "1       120000.0    2          2         2   26     -1      2      0      0   \n",
              "2        90000.0    2          2         2   34      0      0      0      0   \n",
              "3        50000.0    2          2         1   37      0      0      0      0   \n",
              "4        50000.0    1          2         1   57     -1      0     -1      0   \n",
              "...          ...  ...        ...       ...  ...    ...    ...    ...    ...   \n",
              "29995   220000.0    1          3         1   39      0      0      0      0   \n",
              "29996   150000.0    1          3         2   43     -1     -1     -1     -1   \n",
              "29997    30000.0    1          2         2   37      4      3      2     -1   \n",
              "29998    80000.0    1          3         1   41      1     -1      0      0   \n",
              "29999    50000.0    1          2         1   46      0      0      0      0   \n",
              "\n",
              "       PAY_5  ...  BILL_AMT3  BILL_AMT4  BILL_AMT5  BILL_AMT6  PAY_AMT1  \\\n",
              "0         -2  ...      689.0        0.0        0.0        0.0       0.0   \n",
              "1          0  ...     2682.0     3272.0     3455.0     3261.0       0.0   \n",
              "2          0  ...    13559.0    14331.0    14948.0    15549.0    1518.0   \n",
              "3          0  ...    49291.0    28314.0    28959.0    29547.0    2000.0   \n",
              "4          0  ...    35835.0    20940.0    19146.0    19131.0    2000.0   \n",
              "...      ...  ...        ...        ...        ...        ...       ...   \n",
              "29995      0  ...   208365.0    88004.0    31237.0    15980.0    8500.0   \n",
              "29996      0  ...     3502.0     8979.0     5190.0        0.0    1837.0   \n",
              "29997      0  ...     2758.0    20878.0    20582.0    19357.0       0.0   \n",
              "29998      0  ...    76304.0    52774.0    11855.0    48944.0   85900.0   \n",
              "29999      0  ...    49764.0    36535.0    32428.0    15313.0    2078.0   \n",
              "\n",
              "       PAY_AMT2  PAY_AMT3  PAY_AMT4  PAY_AMT5  PAY_AMT6  \n",
              "0         689.0       0.0       0.0       0.0       0.0  \n",
              "1        1000.0    1000.0    1000.0       0.0    2000.0  \n",
              "2        1500.0    1000.0    1000.0    1000.0    5000.0  \n",
              "3        2019.0    1200.0    1100.0    1069.0    1000.0  \n",
              "4       36681.0   10000.0    9000.0     689.0     679.0  \n",
              "...         ...       ...       ...       ...       ...  \n",
              "29995   20000.0    5003.0    3047.0    5000.0    1000.0  \n",
              "29996    3526.0    8998.0     129.0       0.0       0.0  \n",
              "29997       0.0   22000.0    4200.0    2000.0    3100.0  \n",
              "29998    3409.0    1178.0    1926.0   52964.0    1804.0  \n",
              "29999    1800.0    1430.0    1000.0    1000.0    1000.0  \n",
              "\n",
              "[30000 rows x 23 columns]>"
            ]
          },
          "metadata": {},
          "execution_count": 5
        }
      ]
    },
    {
      "cell_type": "code",
      "source": [
        "# Dependent feature\n",
        "y"
      ],
      "metadata": {
        "colab": {
          "base_uri": "https://localhost:8080/"
        },
        "id": "g6RNcOGx8eXx",
        "outputId": "4dd81fcd-a361-4e31-a1d8-ce2bd1c9f7d6"
      },
      "execution_count": 6,
      "outputs": [
        {
          "output_type": "execute_result",
          "data": {
            "text/plain": [
              "0        1\n",
              "1        1\n",
              "2        0\n",
              "3        0\n",
              "4        0\n",
              "        ..\n",
              "29995    0\n",
              "29996    0\n",
              "29997    1\n",
              "29998    1\n",
              "29999    1\n",
              "Name: default.payment.next.month, Length: 30000, dtype: int64"
            ]
          },
          "metadata": {},
          "execution_count": 6
        }
      ]
    },
    {
      "cell_type": "code",
      "source": [
        "# Splitting the dataset into the Training set and Test set\n",
        "from sklearn.model_selection import train_test_split\n",
        "X_train, X_test, y_train, y_test = train_test_split(X, y, test_size = 0.2, random_state = 0)"
      ],
      "metadata": {
        "id": "5maMM1ht9Kvw"
      },
      "execution_count": 7,
      "outputs": []
    },
    {
      "cell_type": "code",
      "source": [
        "# Feature Scaling\n",
        "from sklearn.preprocessing import StandardScaler\n",
        "sc = StandardScaler()\n",
        "X_train = sc.fit_transform(X_train)\n",
        "X_test = sc.transform(X_test)"
      ],
      "metadata": {
        "id": "2iEQys1r9WEP"
      },
      "execution_count": 8,
      "outputs": []
    },
    {
      "cell_type": "code",
      "source": [
        "# Part 2 - Now let's make the ANN!\n",
        "from tensorflow.keras.models import Sequential\n",
        "from tensorflow.keras.layers import Dense\n",
        "from tensorflow.keras.layers import LeakyReLU,PReLU,ELU\n",
        "from tensorflow.keras.layers import Dropout"
      ],
      "metadata": {
        "id": "WxV9_QY89kwe"
      },
      "execution_count": 9,
      "outputs": []
    },
    {
      "cell_type": "code",
      "source": [
        "# Initialising the ANN\n",
        "classifier = Sequential()"
      ],
      "metadata": {
        "id": "IXe4fGrJ9qFm"
      },
      "execution_count": 10,
      "outputs": []
    },
    {
      "cell_type": "code",
      "source": [
        "# Adding the input layer and the first hidden layer\n",
        "classifier.add(Dense(units=20,input_shape=(23,),activation='relu'))"
      ],
      "metadata": {
        "id": "sBM2ftFT94Dy"
      },
      "execution_count": 11,
      "outputs": []
    },
    {
      "cell_type": "code",
      "source": [
        "# adding the first hidden layer\n",
        "classifier.add(Dense(units=10,activation='relu'))\n",
        "#classifier.add(Dropout(0.2))"
      ],
      "metadata": {
        "id": "Df_nU0Xr-Qvs"
      },
      "execution_count": 12,
      "outputs": []
    },
    {
      "cell_type": "code",
      "source": [
        "##adding the second hidden layer\n",
        "classifier.add(Dense(units=10,activation='relu'))\n",
        "#classifier.add(Dropout(0.3))"
      ],
      "metadata": {
        "id": "WyBMP44G-jU-"
      },
      "execution_count": 13,
      "outputs": []
    },
    {
      "cell_type": "code",
      "source": [
        "##  Adding the output layer\n",
        "classifier.add(Dense(1,activation='sigmoid'))\n"
      ],
      "metadata": {
        "id": "Ov3f8NaX-pdi"
      },
      "execution_count": 14,
      "outputs": []
    },
    {
      "cell_type": "code",
      "source": [
        "classifier.summary()"
      ],
      "metadata": {
        "colab": {
          "base_uri": "https://localhost:8080/"
        },
        "id": "lrxEaImRE4FH",
        "outputId": "cd01c739-49de-4487-df05-14cfee7483f1"
      },
      "execution_count": 15,
      "outputs": [
        {
          "output_type": "stream",
          "name": "stdout",
          "text": [
            "Model: \"sequential\"\n",
            "_________________________________________________________________\n",
            " Layer (type)                Output Shape              Param #   \n",
            "=================================================================\n",
            " dense (Dense)               (None, 20)                480       \n",
            "                                                                 \n",
            " dense_1 (Dense)             (None, 10)                210       \n",
            "                                                                 \n",
            " dense_2 (Dense)             (None, 10)                110       \n",
            "                                                                 \n",
            " dense_3 (Dense)             (None, 1)                 11        \n",
            "                                                                 \n",
            "=================================================================\n",
            "Total params: 811\n",
            "Trainable params: 811\n",
            "Non-trainable params: 0\n",
            "_________________________________________________________________\n"
          ]
        }
      ]
    },
    {
      "cell_type": "code",
      "source": [
        "import tensorflow\n",
        "opt=tensorflow.keras.optimizers.Adam(learning_rate=0.01)"
      ],
      "metadata": {
        "id": "nwNXE2VRFKZh"
      },
      "execution_count": 16,
      "outputs": []
    },
    {
      "cell_type": "code",
      "source": [
        "classifier.compile(optimizer=opt,loss='binary_crossentropy',metrics=['accuracy'])"
      ],
      "metadata": {
        "id": "U8heJQe4-tTQ"
      },
      "execution_count": 17,
      "outputs": []
    },
    {
      "cell_type": "code",
      "source": [
        "#tensorflow.keras.optimizers.rm"
      ],
      "metadata": {
        "id": "FYAODvXfFOTF"
      },
      "execution_count": 18,
      "outputs": []
    },
    {
      "cell_type": "code",
      "source": [
        "## Early Stopping\n",
        "import tensorflow as tf\n",
        "early_stopping=tf.keras.callbacks.EarlyStopping(\n",
        "    monitor=\"val_loss\",\n",
        "    patience=5\n",
        "   \n",
        ")"
      ],
      "metadata": {
        "id": "18Eh32QAGcPZ"
      },
      "execution_count": 19,
      "outputs": []
    },
    {
      "cell_type": "code",
      "source": [
        "X_train.shape"
      ],
      "metadata": {
        "colab": {
          "base_uri": "https://localhost:8080/"
        },
        "id": "wUs18c4VGjYT",
        "outputId": "15adfdfe-7dbf-4bdf-e2fa-3808425fa74a"
      },
      "execution_count": 20,
      "outputs": [
        {
          "output_type": "execute_result",
          "data": {
            "text/plain": [
              "(24000, 23)"
            ]
          },
          "metadata": {},
          "execution_count": 20
        }
      ]
    },
    {
      "cell_type": "code",
      "source": [
        "model_history=classifier.fit(X_train,y_train,validation_data=(X_test,y_test),batch_size=10,epochs=100,callbacks=early_stopping)"
      ],
      "metadata": {
        "colab": {
          "base_uri": "https://localhost:8080/"
        },
        "id": "6EBcyvbu-2bH",
        "outputId": "dbeb7087-7aed-4c0d-bdce-3139e86f5b8c"
      },
      "execution_count": 21,
      "outputs": [
        {
          "output_type": "stream",
          "name": "stdout",
          "text": [
            "Epoch 1/100\n",
            "2400/2400 [==============================] - 9s 3ms/step - loss: 0.4590 - accuracy: 0.8097 - val_loss: 0.4472 - val_accuracy: 0.7965\n",
            "Epoch 2/100\n",
            "2400/2400 [==============================] - 7s 3ms/step - loss: 0.4505 - accuracy: 0.8144 - val_loss: 0.4563 - val_accuracy: 0.8258\n",
            "Epoch 3/100\n",
            "2400/2400 [==============================] - 7s 3ms/step - loss: 0.4480 - accuracy: 0.8140 - val_loss: 0.4372 - val_accuracy: 0.8222\n",
            "Epoch 4/100\n",
            "2400/2400 [==============================] - 7s 3ms/step - loss: 0.4448 - accuracy: 0.8150 - val_loss: 0.4383 - val_accuracy: 0.8242\n",
            "Epoch 5/100\n",
            "2400/2400 [==============================] - 7s 3ms/step - loss: 0.4424 - accuracy: 0.8152 - val_loss: 0.4279 - val_accuracy: 0.8280\n",
            "Epoch 6/100\n",
            "2400/2400 [==============================] - 7s 3ms/step - loss: 0.4423 - accuracy: 0.8156 - val_loss: 0.4349 - val_accuracy: 0.8278\n",
            "Epoch 7/100\n",
            "2400/2400 [==============================] - 7s 3ms/step - loss: 0.4396 - accuracy: 0.8147 - val_loss: 0.4427 - val_accuracy: 0.8247\n",
            "Epoch 8/100\n",
            "2400/2400 [==============================] - 7s 3ms/step - loss: 0.4395 - accuracy: 0.8159 - val_loss: 0.4306 - val_accuracy: 0.8253\n",
            "Epoch 9/100\n",
            "2400/2400 [==============================] - 7s 3ms/step - loss: 0.4386 - accuracy: 0.8161 - val_loss: 0.4339 - val_accuracy: 0.8275\n",
            "Epoch 10/100\n",
            "2400/2400 [==============================] - 7s 3ms/step - loss: 0.4385 - accuracy: 0.8156 - val_loss: 0.4306 - val_accuracy: 0.8273\n"
          ]
        }
      ]
    },
    {
      "cell_type": "code",
      "source": [
        "# list all data in history\n",
        "\n",
        "print(model_history.history.keys())"
      ],
      "metadata": {
        "colab": {
          "base_uri": "https://localhost:8080/"
        },
        "id": "a3tc5efp_I5u",
        "outputId": "9cc1388d-d435-4d8b-f2b3-441f0921a0da"
      },
      "execution_count": 22,
      "outputs": [
        {
          "output_type": "stream",
          "name": "stdout",
          "text": [
            "dict_keys(['loss', 'accuracy', 'val_loss', 'val_accuracy'])\n"
          ]
        }
      ]
    },
    {
      "cell_type": "code",
      "source": [
        "\n",
        "# summarize history for accuracy\n",
        "plt.plot(model_history.history['accuracy'])\n",
        "plt.plot(model_history.history['val_accuracy'])\n",
        "plt.title('model accuracy')\n",
        "plt.ylabel('accuracy')\n",
        "plt.xlabel('epoch')\n",
        "plt.legend(['train', 'test'], loc='upper left')\n",
        "plt.show()"
      ],
      "metadata": {
        "colab": {
          "base_uri": "https://localhost:8080/",
          "height": 295
        },
        "id": "QxXO_YG4Adxn",
        "outputId": "8da98001-098b-44b1-94bf-9d83b132a362"
      },
      "execution_count": 23,
      "outputs": [
        {
          "output_type": "display_data",
          "data": {
            "text/plain": [
              "<Figure size 432x288 with 1 Axes>"
            ],
            "image/png": "[encoded data removed]"
          },
          "metadata": {
            "needs_background": "light"
          }
        }
      ]
    },
    {
      "cell_type": "code",
      "source": [
        "# summarize history for loss\n",
        "plt.plot(model_history.history['loss'])\n",
        "plt.plot(model_history.history['val_loss'])\n",
        "plt.title('model loss')\n",
        "plt.ylabel('loss')\n",
        "plt.xlabel('epoch')\n",
        "plt.legend(['train', 'test'], loc='upper left')\n",
        "plt.show()"
      ],
      "metadata": {
        "colab": {
          "base_uri": "https://localhost:8080/",
          "height": 295
        },
        "id": "8uSjXu2hAhX2",
        "outputId": "0d1cd70d-957d-48c4-afb8-53b54ef9fddd"
      },
      "execution_count": 24,
      "outputs": [
        {
          "output_type": "display_data",
          "data": {
            "text/plain": [
              "<Figure size 432x288 with 1 Axes>"
            ],
            "image/png": "[encoded data removed]"
          },
          "metadata": {
            "needs_background": "light"
          }
        }
      ]
    },
    {
      "cell_type": "code",
      "source": [
        "# Part 3 - Making the predictions and evaluating the model\n",
        "\n",
        "# Predicting the Test set results\n",
        "y_pred = classifier.predict(X_test)\n",
        "y_pred = (y_pred > 0.5)"
      ],
      "metadata": {
        "colab": {
          "base_uri": "https://localhost:8080/"
        },
        "id": "x1KQ68BsAnB9",
        "outputId": "3dc76c0d-3f48-4ee8-ed61-dc1b30f404d6"
      },
      "execution_count": 25,
      "outputs": [
        {
          "output_type": "stream",
          "name": "stdout",
          "text": [
            "188/188 [==============================] - 0s 1ms/step\n"
          ]
        }
      ]
    },
    {
      "cell_type": "code",
      "source": [
        "# Making the Confusion Matrix\n",
        "from sklearn.metrics import confusion_matrix\n",
        "cm = confusion_matrix(y_test, y_pred)\n",
        "cm"
      ],
      "metadata": {
        "colab": {
          "base_uri": "https://localhost:8080/"
        },
        "id": "mf-errJyAs53",
        "outputId": "83568751-55e0-4aa5-bada-a41a9d2ce87a"
      },
      "execution_count": 26,
      "outputs": [
        {
          "output_type": "execute_result",
          "data": {
            "text/plain": [
              "array([[4490,  213],\n",
              "       [ 823,  474]])"
            ]
          },
          "metadata": {},
          "execution_count": 26
        }
      ]
    },
    {
      "cell_type": "code",
      "source": [
        "# Calculate the Accuracy\n",
        "from sklearn.metrics import accuracy_score\n",
        "score=accuracy_score(y_pred,y_test)\n",
        "score"
      ],
      "metadata": {
        "colab": {
          "base_uri": "https://localhost:8080/"
        },
        "id": "SczSzqAHAz6f",
        "outputId": "2c212470-edbb-44d2-900b-830a6d3da58f"
      },
      "execution_count": 27,
      "outputs": [
        {
          "output_type": "execute_result",
          "data": {
            "text/plain": [
              "0.8273333333333334"
            ]
          },
          "metadata": {},
          "execution_count": 27
        }
      ]
    },
    {
      "cell_type": "code",
      "source": [
        "##get the weights\n",
        "classifier.get_weights()"
      ],
      "metadata": {
        "colab": {
          "base_uri": "https://localhost:8080/"
        },
        "id": "1xmZvkVqA5oe",
        "outputId": "4cb627f6-97f5-45b4-ecc1-88154cfcc3e9"
      },
      "execution_count": 28,
      "outputs": [
        {
          "output_type": "execute_result",
          "data": {
            "text/plain": [
              "[array([[-0.04209494,  0.40663594, -0.6448452 , -2.132834  , -1.8140259 ,\n",
              "         -2.1146913 ,  1.452775  , -1.3742721 ,  0.7930347 ,  1.0235326 ,\n",
              "          0.88832724, -1.2165005 , -0.9405833 ,  0.09973659,  0.6107272 ,\n",
              "         -0.17807522,  1.1676332 ,  0.2578915 ,  0.00958882, -0.81844646],\n",
              "        [-0.10522773, -0.22897515, -0.22457659, -0.6670375 , -0.31461537,\n",
              "          0.12335115,  2.1495614 ,  1.0533688 , -0.13786902,  0.5313828 ,\n",
              "         -1.3449457 , -0.3008528 , -0.1885681 ,  0.44070405, -0.16566586,\n",
              "         -1.0464135 ,  1.122401  ,  1.579252  , -0.6702634 , -0.6179258 ],\n",
              "        [-0.65704995, -0.20957297,  2.0598056 , -0.08601402, -0.1742396 ,\n",
              "         -0.1162921 , -1.1843671 , -0.07042021, -0.0908878 ,  2.6734583 ,\n",
              "         -1.5096325 , -0.21873556, -0.7105037 , -0.23943019,  0.09485195,\n",
              "          1.3772491 , -1.5490984 ,  0.39112598, -0.3024701 , -0.40899256],\n",
              "        [ 0.09898803,  0.0100538 ,  1.1290812 , -0.42003846, -1.1987252 ,\n",
              "          0.22674474,  0.2585441 ,  0.07439753, -0.9673406 ,  0.21937768,\n",
              "          1.0990368 , -0.29405594,  1.227229  , -0.11442932,  0.24406147,\n",
              "         -0.6166282 , -0.05816477,  0.62084514, -0.61270255,  0.4091781 ],\n",
              "        [ 0.00917791,  0.26658162, -0.9167929 ,  0.49339128, -0.45946595,\n",
              "         -0.5407536 , -0.9325897 , -1.0980694 , -0.22728318,  0.27721494,\n",
              "         -2.353602  , -0.39270186,  0.4578108 , -0.43429634,  0.37759703,\n",
              "         -0.9207612 , -0.1375004 ,  0.33668017,  0.7583584 ,  0.55452156],\n",
              "        [-3.4061625 , -2.1226215 , -2.957367  , -0.15153478,  4.991354  ,\n",
              "         -3.2312186 , -2.215628  , -1.1866469 , -0.5783565 , -2.2782562 ,\n",
              "         -0.975397  , -2.7818222 ,  0.03981147, -0.26617047,  5.659902  ,\n",
              "         -1.8563508 ,  4.1395774 ,  1.2516769 ,  0.5227574 ,  1.4371893 ],\n",
              "        [ 2.1994245 , -0.74686146, -1.0971538 , -2.2196076 ,  0.0713635 ,\n",
              "          0.9765568 , -1.6862142 , -1.9660829 , -2.0918322 ,  0.06159557,\n",
              "          0.10634717, -1.260597  , -0.24716845,  0.04858512,  0.25886378,\n",
              "          0.6178202 , -0.5334964 ,  0.8852992 ,  0.30369046, -1.3316864 ],\n",
              "        [-1.39954   ,  0.31800294, -0.92565113,  0.59923893,  1.3133496 ,\n",
              "          0.6354822 , -0.2047623 , -0.85695976, -0.7839438 , -0.8559878 ,\n",
              "         -1.186672  , -1.5785908 ,  1.0052571 , -0.64804566, -0.691828  ,\n",
              "          0.06463405, -0.40510577, -0.03198771,  1.3365378 ,  0.33734968],\n",
              "        [ 0.6738463 ,  1.5000017 , -0.8727738 ,  1.3934103 ,  1.4705958 ,\n",
              "         -1.0267956 , -0.66088176, -0.9943385 , -0.12541619,  0.6404748 ,\n",
              "          1.5929289 ,  1.3759799 ,  0.50478595, -1.253333  , -0.67057693,\n",
              "          0.19158743,  0.64000595, -0.7856893 , -1.2317823 ,  0.6826751 ],\n",
              "        [ 0.30157122,  1.2407017 , -0.5174069 ,  1.6009637 ,  1.5787125 ,\n",
              "         -1.0814087 ,  0.39853206,  0.01186492, -0.19891547,  0.07465402,\n",
              "         -0.6968651 , -0.40375623,  0.08593466,  1.1582998 , -0.42285022,\n",
              "         -0.29650196,  0.28046513,  0.6339783 , -0.09299069, -0.40239125],\n",
              "        [-0.13041165,  0.8362949 ,  1.1112367 , -1.0365915 ,  0.8362147 ,\n",
              "          1.2838767 ,  0.9515327 ,  1.1766598 , -0.35828075,  0.32960638,\n",
              "          0.20905694,  0.76828957, -0.4363563 ,  0.61415905,  0.21470645,\n",
              "          0.708201  , -0.11362369,  0.40282717, -0.77403516, -2.116407  ],\n",
              "        [-0.698547  , -2.9308372 ,  0.5679909 ,  0.895471  , -0.3421472 ,\n",
              "         -2.2479618 ,  0.7780428 ,  0.9540879 , -1.1471075 , -0.11871529,\n",
              "          0.38496032,  2.2421756 ,  0.37293443, -0.21884784, -0.16755885,\n",
              "          0.78090036,  0.04709354, -0.69126487, -1.5711321 ,  0.14996289],\n",
              "        [ 0.01005827, -1.6692098 ,  0.5370404 , -0.2329595 ,  0.81765306,\n",
              "         -0.7210027 ,  0.19574673,  1.041158  ,  0.18952198, -0.49548063,\n",
              "         -0.10088119,  1.6899384 , -0.61579597, -0.15516292,  0.6791831 ,\n",
              "          0.34241152,  0.3558156 ,  0.7791444 ,  0.5484565 ,  0.57975006],\n",
              "        [-0.02714299, -0.55856055,  0.55586463,  0.24857162,  0.8200938 ,\n",
              "         -0.0244275 , -0.34514162,  1.1808286 ,  0.6714232 , -0.33037466,\n",
              "         -0.39111638,  1.0307168 ,  0.31251085,  0.6007929 ,  0.15256178,\n",
              "         -0.11254188,  0.3806921 ,  0.58722806, -0.28004786,  0.49430373],\n",
              "        [ 0.7121309 ,  0.5850112 ,  0.44490272,  0.57648826,  0.79805464,\n",
              "         -0.02404205, -0.4086018 , -0.50167507, -0.4226157 , -0.1808466 ,\n",
              "         -0.39480639, -0.1332901 , -0.11995099, -0.09190185,  0.19232422,\n",
              "         -0.36852363,  0.43437326,  0.11025817, -2.210204  ,  0.72917897],\n",
              "        [ 0.5489201 ,  0.95515716,  0.67227983, -1.015812  , -0.17938589,\n",
              "         -0.45887065, -0.42827672, -1.4787233 , -0.01373759,  0.21786118,\n",
              "          0.32718962, -0.250719  ,  0.05449263,  0.21752025,  0.18415603,\n",
              "         -0.9750049 ,  0.16264197, -0.01229649, -0.46336952, -0.38322893],\n",
              "        [ 0.28359374,  0.49596384,  0.61075157, -0.05857204, -0.77833486,\n",
              "          0.7413713 , -0.31482577, -0.30635703,  0.4127252 ,  0.08624373,\n",
              "         -0.01356112, -0.11468218,  0.2622128 , -0.09129989,  0.01526484,\n",
              "         -0.5905419 , -0.30935556, -0.62127346,  0.22193821,  0.28260115],\n",
              "        [ 0.29733253, -2.790379  , -0.14083087, -1.7391425 ,  0.22382492,\n",
              "         -2.053721  ,  0.85285395, -0.21517569, -4.9359393 ,  0.37041757,\n",
              "          1.2381898 , -1.8673083 , -0.96502185, -0.9904363 ,  0.02094931,\n",
              "          0.47210005, -0.10306478, -0.37625766, -6.173223  , -3.2240593 ],\n",
              "        [-1.3920721 , -1.1502093 , -0.41055346, -1.3185936 , -0.39832297,\n",
              "         -1.5030174 ,  0.6980298 , -2.6031651 , -1.2636427 , -0.17416357,\n",
              "          0.31815296, -1.5982928 , -0.58710474, -0.19485548, -0.24662258,\n",
              "          0.75443023, -0.3644007 ,  0.9320518 ,  1.0406439 , -2.0321443 ],\n",
              "        [-1.6931608 , -0.15913507, -1.1725941 , -0.85383844,  0.5357351 ,\n",
              "         -1.5626433 , -0.7900812 ,  0.68504447, -2.6964588 ,  0.01848171,\n",
              "          0.18051116, -2.7025337 , -1.3569391 , -0.26545724, -1.3129467 ,\n",
              "          1.2527002 ,  0.01225367,  0.26438406,  0.80671805, -0.74386096],\n",
              "        [ 0.16536622, -1.320194  ,  1.1052811 ,  0.55608326, -0.2593928 ,\n",
              "         -0.20431982,  0.20643818,  1.2429913 ,  0.15482366,  0.9376321 ,\n",
              "          0.11429016,  1.2778034 , -0.66723776, -0.2921357 , -0.48454744,\n",
              "          0.9519844 , -0.28391206, -0.49092487,  1.0010979 , -1.3407751 ],\n",
              "        [-0.7448552 ,  0.04799441,  1.2349638 ,  0.79526305,  0.61338365,\n",
              "          0.12775838,  0.20062843, -0.15780461, -0.5333494 ,  0.9796488 ,\n",
              "         -0.13702376, -0.24183719,  0.7876702 ,  0.01721964, -2.073978  ,\n",
              "         -0.61794066, -0.11974593, -0.35211545,  0.6242012 , -1.5986414 ],\n",
              "        [-1.7762266 , -1.4940703 ,  0.09011234,  1.8222466 , -1.2122988 ,\n",
              "         -1.3736117 ,  0.10781156, -2.1382103 ,  0.8747649 , -0.05613258,\n",
              "          0.57302725, -0.6324853 ,  0.09631931, -0.7325201 , -0.3582344 ,\n",
              "         -0.9780914 , -0.6410972 , -0.15671207,  0.7218433 , -1.8229685 ]],\n",
              "       dtype=float32),\n",
              " array([-3.700036  , -2.949421  , -1.953218  , -2.563839  , -2.8066125 ,\n",
              "        -2.46344   ,  1.4328727 , -1.6381358 , -3.081513  , -1.5772654 ,\n",
              "        -0.7797735 , -2.824303  , -2.8600135 , -3.5037165 , -2.9217649 ,\n",
              "        -2.9034045 , -0.32022217, -3.568999  , -3.4732568 , -2.5751626 ],\n",
              "       dtype=float32),\n",
              " array([[-8.24847579e-01,  4.34661865e-01, -6.13555431e-01,\n",
              "         -1.63819766e+00,  7.70549238e-01, -2.63505131e-01,\n",
              "         -8.21158350e-01,  2.27742359e-01, -9.50593650e-01,\n",
              "          8.87837633e-03],\n",
              "        [-2.26881218e+00,  1.38769433e-01, -6.04759812e-01,\n",
              "         -1.03349054e+00,  4.30181354e-01, -6.19895995e-01,\n",
              "         -1.28280446e-01, -3.08396798e-02, -1.32119560e+00,\n",
              "         -2.23551437e-01],\n",
              "        [-1.31850207e+00, -1.39612722e+00, -5.27733147e-01,\n",
              "         -1.07076526e-01, -7.88201213e-01, -6.05464041e-01,\n",
              "         -4.62691605e-01, -5.17189562e-01, -2.02306911e-01,\n",
              "         -9.26191449e-01],\n",
              "        [-1.89099586e+00, -1.99611115e+00, -6.80744767e-01,\n",
              "         -1.55908668e+00,  3.13992620e-01, -8.58078152e-03,\n",
              "         -7.22307980e-01, -1.69484270e+00, -8.34999204e-01,\n",
              "         -2.31897682e-01],\n",
              "        [-3.26715350e+00, -2.59941292e+00, -5.87863207e-01,\n",
              "         -1.75509468e-01,  7.43951201e-01, -6.06485546e-01,\n",
              "         -7.98197031e-01, -8.26050103e-01, -1.35052454e+00,\n",
              "         -6.70215607e-01],\n",
              "        [-1.93693936e+00, -1.74460635e-01, -3.50470275e-01,\n",
              "         -1.50803709e+00,  7.10255325e-01,  1.21904172e-01,\n",
              "         -2.25670099e-01, -1.38419658e-01, -9.75479782e-01,\n",
              "         -3.04734945e-01],\n",
              "        [-1.91891146e+00, -1.01914883e+00, -7.19209552e-01,\n",
              "         -9.11122561e-01, -6.57117963e-01, -9.25350964e-01,\n",
              "         -6.62559628e-01, -9.39966381e-01, -1.46928718e-02,\n",
              "         -6.57743961e-02],\n",
              "        [-1.43916714e+00, -1.17987967e+00, -3.57885748e-01,\n",
              "         -1.23355019e+00, -2.25263044e-01, -2.21310988e-01,\n",
              "         -8.97866428e-01, -6.10666990e-01, -5.01510084e-01,\n",
              "         -2.65239954e-01],\n",
              "        [-1.27862680e+00, -1.70428789e+00, -6.70220435e-01,\n",
              "         -4.86373097e-01,  1.13764904e-01, -6.38414681e-01,\n",
              "         -3.51604819e-01, -6.44889235e-01, -1.18690288e+00,\n",
              "         -1.36074647e-01],\n",
              "        [-9.06085134e-01, -8.99272561e-01, -1.94925964e-01,\n",
              "         -1.01935697e+00, -2.71072417e-01, -1.35694003e+00,\n",
              "         -8.13763320e-01, -1.09101307e+00,  2.31693879e-01,\n",
              "         -1.59079313e-01],\n",
              "        [-2.18697810e+00,  5.19955456e-02, -6.44605681e-02,\n",
              "         -1.20544326e+00, -1.47667855e-01, -3.48646730e-01,\n",
              "         -1.81585059e-01, -7.28875518e-01,  1.70188069e-01,\n",
              "         -1.08735979e+00],\n",
              "        [-9.92844284e-01, -1.06348097e+00, -9.37947154e-01,\n",
              "         -8.29229295e-01, -3.42102319e-01, -1.06461413e-01,\n",
              "         -6.56830788e-01,  3.02907944e-01, -1.01634526e+00,\n",
              "         -5.10663278e-02],\n",
              "        [-8.14500690e-01, -3.82969081e-01, -3.26640636e-01,\n",
              "         -7.28415847e-01, -6.90077990e-02, -3.80548358e-01,\n",
              "         -5.19387841e-01,  4.37560827e-01, -7.11692095e-01,\n",
              "         -1.47467718e-01],\n",
              "        [-7.03134835e-01, -4.82870132e-01, -6.49883926e-01,\n",
              "         -4.14650738e-01,  1.66086420e-01, -9.57024753e-01,\n",
              "         -3.80510807e-01, -1.39610791e+00,  6.24722394e-04,\n",
              "         -2.45195001e-01],\n",
              "        [-1.63698328e+00, -2.48705196e+00, -6.26474798e-01,\n",
              "         -1.95441931e-01,  1.18657100e+00, -1.56678903e+00,\n",
              "         -4.21057940e-01, -1.07360113e+00, -7.88190961e-01,\n",
              "         -8.91043603e-01],\n",
              "        [-7.66697377e-02, -1.48308635e+00, -7.10990787e-01,\n",
              "         -6.23321474e-01,  4.26680185e-02, -9.34853852e-01,\n",
              "         -5.34640849e-01, -3.14989239e-01, -1.08541563e-01,\n",
              "         -1.04824625e-01],\n",
              "        [-1.92518508e+00, -1.64299715e+00, -5.94241500e-01,\n",
              "         -2.12201118e+00,  3.48029047e-01, -9.93632913e-01,\n",
              "         -8.68266761e-01, -1.36744332e+00,  2.09088281e-01,\n",
              "         -1.13846517e+00],\n",
              "        [-7.68844962e-01, -3.38636458e-01,  7.13896230e-02,\n",
              "         -3.00433397e-01,  7.12460093e-03, -4.77577299e-02,\n",
              "         -5.74680686e-01, -4.71738577e-01, -5.88007152e-01,\n",
              "         -4.35201198e-01],\n",
              "        [-8.84041965e-01, -1.24683809e+00, -2.11630166e-02,\n",
              "         -1.32024646e+00,  1.66307479e-01, -7.91854739e-01,\n",
              "         -4.74916130e-01, -1.23295508e-01, -1.56861389e+00,\n",
              "         -1.82303339e-01],\n",
              "        [-2.05694818e+00, -2.49819613e+00, -2.57688731e-01,\n",
              "         -1.12127513e-02,  4.20207173e-01, -1.71169505e-01,\n",
              "          1.22735649e-01, -5.76638222e-01, -2.90993959e-01,\n",
              "         -2.17838004e-01]], dtype=float32),\n",
              " array([ 0.36295626, -2.6730337 , -0.46867353, -2.7298381 , -1.4711156 ,\n",
              "        -0.7313292 , -0.4043007 , -1.4668167 ,  3.9698706 , -0.71117675],\n",
              "       dtype=float32),\n",
              " array([[-7.32535958e-01,  1.25561014e-01,  2.76726596e-02,\n",
              "         -2.32551042e-02, -2.45621637e-01, -2.80436296e-02,\n",
              "         -6.13447875e-02, -6.12695813e-01, -1.25907674e-01,\n",
              "         -2.79836118e-01],\n",
              "        [-4.06867526e-02, -1.16781197e-01, -2.70387322e-01,\n",
              "         -3.18375370e-03, -1.31074622e-01, -8.55455518e-01,\n",
              "         -7.13402256e-02, -1.97658658e-01, -4.71892923e-01,\n",
              "         -9.66743708e-01],\n",
              "        [-4.96021397e-02,  1.46956686e-02, -3.67893666e-01,\n",
              "          3.46432999e-02, -3.54136489e-02, -9.89844278e-02,\n",
              "         -5.75351417e-01,  1.06364759e-02,  2.73826241e-01,\n",
              "          3.87537271e-01],\n",
              "        [-4.82583374e-01, -9.08671618e-01, -3.98738354e-01,\n",
              "         -2.61834174e-01, -7.83249557e-01, -7.25113869e-01,\n",
              "         -5.87924242e-01, -4.66831475e-02,  6.54266179e-02,\n",
              "         -1.05152182e-01],\n",
              "        [-2.04316914e-01, -1.58286959e-01, -3.21955204e-01,\n",
              "         -7.03978479e-01, -6.67131782e-01, -1.49829447e-01,\n",
              "         -2.36840919e-01, -5.29553555e-02,  2.84515191e-02,\n",
              "         -1.20623684e+00],\n",
              "        [-2.46416442e-02, -1.06382959e-01,  3.80599916e-01,\n",
              "         -6.75199926e-02, -8.13713729e-01, -1.30297557e-01,\n",
              "         -4.53630447e-01,  3.35325211e-01,  1.02500856e-01,\n",
              "          7.69612789e-01],\n",
              "        [-3.45735103e-01, -3.21900040e-01, -1.98861375e-01,\n",
              "         -5.94856918e-01,  1.69162512e-01,  1.29345763e+00,\n",
              "          1.91323385e-01, -9.01948363e-02, -1.99716747e-01,\n",
              "         -1.05897829e-01],\n",
              "        [-1.48266584e-01, -3.33847046e-01, -7.72592425e-02,\n",
              "         -4.23655003e-01, -6.63319901e-02, -1.25207612e-02,\n",
              "         -8.07604730e-01, -2.38624141e-01, -1.31142706e-01,\n",
              "         -7.63784051e-02],\n",
              "        [ 3.11931401e-01, -5.26951738e-02, -7.95375556e-02,\n",
              "         -3.68539505e-02, -2.58452058e-01, -3.59334499e-01,\n",
              "         -1.21414084e-02, -6.49893641e-01, -3.29776645e+00,\n",
              "          2.24012375e-01],\n",
              "        [-3.64744365e-01,  8.53554755e-02,  3.60785902e-01,\n",
              "          3.05961519e-01, -2.63298720e-01, -3.09016734e-01,\n",
              "          2.50038832e-01, -3.78407657e-01, -3.61123562e-01,\n",
              "          3.53737354e-01]], dtype=float32),\n",
              " array([ 2.9211817e+00, -4.9618416e-02, -3.7448481e-01, -4.7717169e-03,\n",
              "        -3.4869573e-04, -6.9591240e-03, -4.8846015e-01, -7.1241789e-02,\n",
              "         1.7725309e-02, -2.7666078e+00], dtype=float32),\n",
              " array([[-0.79851097],\n",
              "        [-0.04706223],\n",
              "        [-0.03203766],\n",
              "        [ 0.00107172],\n",
              "        [-0.00594324],\n",
              "        [-0.05003897],\n",
              "        [ 0.1041723 ],\n",
              "        [ 0.04262277],\n",
              "        [ 0.02732271],\n",
              "        [ 0.24176012]], dtype=float32),\n",
              " array([0.60330725], dtype=float32)]"
            ]
          },
          "metadata": {},
          "execution_count": 28
        }
      ]
    },
    {
      "cell_type": "code",
      "source": [
        "## Saving h5 file\n",
        "classifier.save('model.h5')"
      ],
      "metadata": {
        "id": "qy8OQd4mI9I2"
      },
      "execution_count": 29,
      "outputs": []
    },
    {
      "cell_type": "code",
      "source": [
        "##laoding h5 file\n",
        "from tensorflow import keras\n",
        "classifier1=keras.models.load_model('model.h5')"
      ],
      "metadata": {
        "id": "A-NFI5hyJBiE"
      },
      "execution_count": 30,
      "outputs": []
    },
    {
      "cell_type": "code",
      "source": [
        "classifier1.predict(X_test)"
      ],
      "metadata": {
        "colab": {
          "base_uri": "https://localhost:8080/"
        },
        "id": "F8iHomK2JI-1",
        "outputId": "f7870f80-64ff-4327-d68f-f27524c54b98"
      },
      "execution_count": 76,
      "outputs": [
        {
          "output_type": "stream",
          "name": "stdout",
          "text": [
            "188/188 [==============================] - 0s 1ms/step\n"
          ]
        },
        {
          "output_type": "execute_result",
          "data": {
            "text/plain": [
              "array([[0.56616765],\n",
              "       [0.19080275],\n",
              "       [0.31243336],\n",
              "       ...,\n",
              "       [0.12015577],\n",
              "       [0.64996004],\n",
              "       [0.14826621]], dtype=float32)"
            ]
          },
          "metadata": {},
          "execution_count": 76
        }
      ]
    },
    {
      "cell_type": "code",
      "source": [
        "X_test"
      ],
      "metadata": {
        "colab": {
          "base_uri": "https://localhost:8080/"
        },
        "id": "NCul4F7znj0B",
        "outputId": "d8ebb29f-286a-469f-bca5-a49fae04f120"
      },
      "execution_count": 78,
      "outputs": [
        {
          "output_type": "execute_result",
          "data": {
            "text/plain": [
              "array([[-1.14095868, -1.22772676, -1.08001456, ..., -0.20863815,\n",
              "        -0.3163186 , -0.25987201],\n",
              "       [-1.14095868,  0.81451348,  0.18897347, ..., -0.3119826 ,\n",
              "        -0.25038332, -0.296449  ],\n",
              "       [ 0.48091719,  0.81451348, -1.08001456, ..., -0.3119826 ,\n",
              "        -0.3163186 , -0.296449  ],\n",
              "       ...,\n",
              "       [-0.67756558, -1.22772676,  1.45796149, ..., -0.21509718,\n",
              "        -0.30721953, -0.293098  ],\n",
              "       [-1.14095868, -1.22772676,  0.18897347, ..., -0.3119826 ,\n",
              "        -0.18444804, -0.296449  ],\n",
              "       [-0.90926213, -1.22772676,  0.18897347, ...,  0.02840818,\n",
              "        -0.13077673, -0.12100443]])"
            ]
          },
          "metadata": {},
          "execution_count": 78
        }
      ]
    },
    {
      "cell_type": "code",
      "source": [
        "dict_value={\n",
        "\"LIMIT_BAL\" : 20000 ,\n",
        "\"SEX\"       : 2     ,\n",
        "\"EDUCATION\" : 2     ,\n",
        "\"MARRIAGE\"  : 1     ,\n",
        "\"AGE\"       : 24    ,\n",
        "\"PAY_0\"     : 2     ,\n",
        "\"PAY_2\"     : 2     ,\n",
        "\"PAY_3\"     : -1    ,\n",
        "\"PAY_4\"     : -1    ,\n",
        "\"PAY_5\"     : -2    ,\n",
        "\"PAY_6\"     : -2    ,\n",
        "\"BILL_AMT1\" : 3913  ,\n",
        "\"BILL_AMT2\" : 3102  ,\n",
        "\"BILL_AMT3\" : 689   ,\n",
        "\"BILL_AMT4\" : 0     ,\n",
        "\"BILL_AMT5\" : 0     ,\n",
        "\"BILL_AMT6\" : 0     ,\n",
        "\"PAY_AMT1\"  : 0     ,\n",
        "\"PAY_AMT2\"  : 689   ,\n",
        "\"PAY_AMT3\"  : 0     ,\n",
        "\"PAY_AMT4\"  : 0     ,\n",
        "\"PAY_AMT5\"  : 0     ,\n",
        "\"PAY_AMT6\"  : 0\n",
        "}"
      ],
      "metadata": {
        "id": "-0nDwlnkWCJG"
      },
      "execution_count": 34,
      "outputs": []
    },
    {
      "cell_type": "code",
      "source": [
        "#dict_value"
      ],
      "metadata": {
        "id": "-IdsWHKscoKh"
      },
      "execution_count": 62,
      "outputs": []
    },
    {
      "cell_type": "code",
      "source": [
        "# row no 3 in csv file (dependent value is 0 in csv)\n",
        "datas=[90000 ,\n",
        "2     ,\n",
        "2     ,\n",
        "2     ,\n",
        "34    ,\n",
        "0     ,\n",
        "0     ,\n",
        "0     ,\n",
        "0     ,\n",
        "0     ,\n",
        "0     ,\n",
        "29239 ,\n",
        "14027 ,\n",
        "13559 ,\n",
        "14331 ,\n",
        "14948 ,\n",
        "15549 ,\n",
        "1518  ,\n",
        "1500  ,\n",
        "1000  ,\n",
        "1000  ,\n",
        "1000  ,\n",
        "5000]"
      ],
      "metadata": {
        "id": "fQazgN28dEyf"
      },
      "execution_count": 67,
      "outputs": []
    },
    {
      "cell_type": "code",
      "source": [
        "classifier.predict([datas])[0]"
      ],
      "metadata": {
        "colab": {
          "base_uri": "https://localhost:8080/"
        },
        "id": "aGWJoFzvebIF",
        "outputId": "c2bce4c4-1501-4043-9eaf-fce9c0bde7ac"
      },
      "execution_count": 68,
      "outputs": [
        {
          "output_type": "stream",
          "name": "stdout",
          "text": [
            "1/1 [==============================] - 0s 27ms/step\n"
          ]
        },
        {
          "output_type": "execute_result",
          "data": {
            "text/plain": [
              "array([0.15074062], dtype=float32)"
            ]
          },
          "metadata": {},
          "execution_count": 68
        }
      ]
    },
    {
      "cell_type": "code",
      "source": [
        "# row no 14 in csv file  (dependent value is 1 in csv)\n",
        "datas2=[70000  ,\n",
        "1      ,\n",
        "2      ,\n",
        "2      ,\n",
        "30     ,\n",
        "1      ,\n",
        "2      ,\n",
        "2      ,\n",
        "0      ,\n",
        "0      ,\n",
        "2      ,\n",
        "65802  ,\n",
        "67369  ,\n",
        "65701  ,\n",
        "66782  ,\n",
        "36137  ,\n",
        "36894  ,\n",
        "3200   ,\n",
        "0      ,\n",
        "3000   ,\n",
        "3000   ,\n",
        "1500   ,\n",
        "0]"
      ],
      "metadata": {
        "id": "TbsMW0ycekvi"
      },
      "execution_count": 69,
      "outputs": []
    },
    {
      "cell_type": "code",
      "source": [
        "classifier.predict([datas2])[0]"
      ],
      "metadata": {
        "colab": {
          "base_uri": "https://localhost:8080/"
        },
        "id": "6WiRH8u2llPz",
        "outputId": "1ee02e84-c539-4fdf-c43b-ada543feceb6"
      },
      "execution_count": 70,
      "outputs": [
        {
          "output_type": "stream",
          "name": "stdout",
          "text": [
            "1/1 [==============================] - 0s 26ms/step\n"
          ]
        },
        {
          "output_type": "execute_result",
          "data": {
            "text/plain": [
              "array([0.15074062], dtype=float32)"
            ]
          },
          "metadata": {},
          "execution_count": 70
        }
      ]
    },
    {
      "cell_type": "code",
      "source": [],
      "metadata": {
        "id": "OuO1uAkgl071"
      },
      "execution_count": null,
      "outputs": []
    }
  ]
}